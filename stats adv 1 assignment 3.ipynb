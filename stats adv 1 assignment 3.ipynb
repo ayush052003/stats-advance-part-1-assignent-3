{
 "cells": [
  {
   "cell_type": "code",
   "execution_count": 1,
   "id": "3e680a9b-3272-4f7c-a649-7f965c9aab14",
   "metadata": {},
   "outputs": [
    {
     "data": {
      "text/plain": [
       "'Q1: What is Estimation Statistics? Explain point estimate and interval estimate.'"
      ]
     },
     "execution_count": 1,
     "metadata": {},
     "output_type": "execute_result"
    }
   ],
   "source": [
    "'''Q1: What is Estimation Statistics? Explain point estimate and interval estimate.'''"
   ]
  },
  {
   "cell_type": "code",
   "execution_count": 2,
   "id": "b932bdb3-e892-474d-a5b9-0569050ba0ee",
   "metadata": {},
   "outputs": [
    {
     "data": {
      "text/plain": [
       "'Estimation Statistics is a data analysis framework that uses a combination of effect sizes, confidence intervals, precision planning, and meta-analysis\\nto plan experiments, analyze data, and interpret results. It goes beyond the question of whether an effect is present or not and provides information \\nabout how large an effect is.\\n\\nPoint Estimate: In statistics, a point estimate involves the use of sample data to calculate a single value, which serves as the “best guess” or “best \\nestimate” of an unknown population parameter. For example, if we want to estimate the mean weight of a certain species of turtle in Florida, we might\\ntake a simple random sample of 50 turtles and use the mean weight of the turtles in this sample to estimate the true population mean.\\n\\nInterval Estimate: An interval estimate, on the other hand, is a range of values within which a parameter is most likely to be located45. For instance,\\nif we find that 10% of a sample of 1000 senior citizens smoke cigarettes, we might estimate that the true proportion for the whole population is somewhere\\naround there, perhaps between 5% and 15%. That “somewhere between 5% and 15%” is an interval estimate4. When the interval estimate has a confidence\\nlevel attached, it’s called a confidence interval.\\n\\nIn summary, while a point estimate provides a single best guess of the population parameter, an interval estimate provides a range of values that likely\\ncontain the population parameter. Both are fundamental concepts in estimation statistics.'"
      ]
     },
     "execution_count": 2,
     "metadata": {},
     "output_type": "execute_result"
    }
   ],
   "source": [
    "'''Estimation Statistics is a data analysis framework that uses a combination of effect sizes, confidence intervals, precision planning, and meta-analysis\n",
    "to plan experiments, analyze data, and interpret results. It goes beyond the question of whether an effect is present or not and provides information \n",
    "about how large an effect is.\n",
    "\n",
    "Point Estimate: In statistics, a point estimate involves the use of sample data to calculate a single value, which serves as the “best guess” or “best \n",
    "estimate” of an unknown population parameter. For example, if we want to estimate the mean weight of a certain species of turtle in Florida, we might\n",
    "take a simple random sample of 50 turtles and use the mean weight of the turtles in this sample to estimate the true population mean.\n",
    "\n",
    "Interval Estimate: An interval estimate, on the other hand, is a range of values within which a parameter is most likely to be located45. For instance,\n",
    "if we find that 10% of a sample of 1000 senior citizens smoke cigarettes, we might estimate that the true proportion for the whole population is somewhere\n",
    "around there, perhaps between 5% and 15%. That “somewhere between 5% and 15%” is an interval estimate4. When the interval estimate has a confidence\n",
    "level attached, it’s called a confidence interval.\n",
    "\n",
    "In summary, while a point estimate provides a single best guess of the population parameter, an interval estimate provides a range of values that likely\n",
    "contain the population parameter. Both are fundamental concepts in estimation statistics.'''"
   ]
  },
  {
   "cell_type": "code",
   "execution_count": 3,
   "id": "947d1d65-aa56-41a5-a3b4-5adf2db9072a",
   "metadata": {},
   "outputs": [
    {
     "data": {
      "text/plain": [
       "'Q2. Write a Python function to estimate the population mean using a sample mean and standard \\ndeviation.'"
      ]
     },
     "execution_count": 3,
     "metadata": {},
     "output_type": "execute_result"
    }
   ],
   "source": [
    "'''Q2. Write a Python function to estimate the population mean using a sample mean and standard \n",
    "deviation.'''"
   ]
  },
  {
   "cell_type": "code",
   "execution_count": 5,
   "id": "f30baa29-88b6-4a81-8027-c03ade392947",
   "metadata": {},
   "outputs": [],
   "source": [
    "# Here is the python program for estimate the population mean using a sample mean and std.....\n",
    "\n",
    "def estimate_population_mean(sample_mean, sample_std_dev):\n",
    "    population_mean_estimate = sample_mean\n",
    "    return population_mean_estimate"
   ]
  },
  {
   "cell_type": "code",
   "execution_count": 6,
   "id": "3d6e5a6d-fa12-482b-bb7e-3819232caa09",
   "metadata": {},
   "outputs": [
    {
     "data": {
      "text/plain": [
       "'Q3: What is Hypothesis testing? Why is it used? State the importance of Hypothesis testing'"
      ]
     },
     "execution_count": 6,
     "metadata": {},
     "output_type": "execute_result"
    }
   ],
   "source": [
    "'''Q3: What is Hypothesis testing? Why is it used? State the importance of Hypothesis testing'''"
   ]
  },
  {
   "cell_type": "code",
   "execution_count": 7,
   "id": "24a4baa4-21c6-4b0b-8b61-a1f4760b96f4",
   "metadata": {},
   "outputs": [
    {
     "data": {
      "text/plain": [
       "'The importance of Hypothesis Testing lies in its ability to help decide if something really happened, or if certain treatments have positive effects,\\nor if groups differ from each other or if one variable predicts another. It is one of the most important concepts in statistics because it allows us \\no determine if our data is statistically significant and unlikely to have occurred by chance alone. In essence, a hypothesis test is a test of \\nsignificance.'"
      ]
     },
     "execution_count": 7,
     "metadata": {},
     "output_type": "execute_result"
    }
   ],
   "source": [
    "'''Hypothesis Testing is a statistical method used to make decisions using experimental data. It involves formulating assumptions about population parameters\n",
    "based on sample statistics and rigorously evaluating these assumptions against empirical evidence1. Hypothesis testing evaluates two mutually exclusive\n",
    "statements about a population to determine which statement is best supported by the sample data.'''\n",
    "\n",
    "# Hypothesis testing is used for various reasons:\n",
    "\n",
    "# 1.Decision Making: It helps researchers and decision-makers make informed decisions based on evidence rather than guesses.\n",
    "\n",
    "# 2.Testing Assumptions: It allows us to test specific predictions, called hypotheses, that arise from theories.\n",
    "\n",
    "# 3.Statistical Significance: It provides a way to verify whether the results of an experiment are valid.\n",
    "\n",
    "'''The importance of Hypothesis Testing lies in its ability to help decide if something really happened, or if certain treatments have positive effects,\n",
    "or if groups differ from each other or if one variable predicts another. It is one of the most important concepts in statistics because it allows us \n",
    "o determine if our data is statistically significant and unlikely to have occurred by chance alone. In essence, a hypothesis test is a test of \n",
    "significance.'''"
   ]
  },
  {
   "cell_type": "code",
   "execution_count": 8,
   "id": "83298428-dd17-4614-972d-05a62de6955e",
   "metadata": {},
   "outputs": [
    {
     "data": {
      "text/plain": [
       "'Q4. Create a hypothesis that states whether the average weight of male college students is greater than \\nthe average weight of female college students.'"
      ]
     },
     "execution_count": 8,
     "metadata": {},
     "output_type": "execute_result"
    }
   ],
   "source": [
    "'''Q4. Create a hypothesis that states whether the average weight of male college students is greater than \n",
    "the average weight of female college students.'''"
   ]
  },
  {
   "cell_type": "code",
   "execution_count": 9,
   "id": "98fd79d0-0f89-4bcb-adf2-0152eede0a94",
   "metadata": {},
   "outputs": [
    {
     "data": {
      "text/plain": [
       "'Null Hypothesis (H0): The average weight of male college students is equal to the average weight of female college students. In mathematical terms, this\\ncan be represented as:\\n    \\nH0:μmale = μfemale\\n\\nwhere μmale represents the population mean weight of male college students and μfemale represents the population mean weight of female college students\\n\\nAlternative Hypothesis (H1): The average weight of male college students is greater than the average weight of female college students. In mathematical\\nterms, this can be represented as:\\n    \\nH1:μmale > μfemale\\n\\nThis is a one-tailed test because we are only interested in whether the average weight of male college students is greater than that of female college\\nstudents. If we were interested in whether the weights were simply different (either greater or lesser), we would use a two-tailed test.\\n\\nPlease note that these hypotheses are purely illustrative and the actual testing would require appropriate data and statistical analysis.'"
      ]
     },
     "execution_count": 9,
     "metadata": {},
     "output_type": "execute_result"
    }
   ],
   "source": [
    "'''Null Hypothesis (H0): The average weight of male college students is equal to the average weight of female college students. In mathematical terms, this\n",
    "can be represented as:\n",
    "    \n",
    "H0:μmale = μfemale\n",
    "\n",
    "where μmale represents the population mean weight of male college students and μfemale represents the population mean weight of female college students\n",
    "\n",
    "Alternative Hypothesis (H1): The average weight of male college students is greater than the average weight of female college students. In mathematical\n",
    "terms, this can be represented as:\n",
    "    \n",
    "H1:μmale > μfemale\n",
    "\n",
    "This is a one-tailed test because we are only interested in whether the average weight of male college students is greater than that of female college\n",
    "students. If we were interested in whether the weights were simply different (either greater or lesser), we would use a two-tailed test.\n",
    "\n",
    "Please note that these hypotheses are purely illustrative and the actual testing would require appropriate data and statistical analysis.'''"
   ]
  },
  {
   "cell_type": "code",
   "execution_count": 10,
   "id": "96df0c81-d541-47a4-b15b-1ba7a16886fc",
   "metadata": {},
   "outputs": [
    {
     "data": {
      "text/plain": [
       "'Q5. Write a Python script to conduct a hypothesis test on the difference between two population means, \\ngiven a sample from each population.'"
      ]
     },
     "execution_count": 10,
     "metadata": {},
     "output_type": "execute_result"
    }
   ],
   "source": [
    "'''Q5. Write a Python script to conduct a hypothesis test on the difference between two population means, \n",
    "given a sample from each population.'''"
   ]
  },
  {
   "cell_type": "code",
   "execution_count": 11,
   "id": "a21abf06-f84c-4f7b-9b3d-bba959e8805f",
   "metadata": {},
   "outputs": [],
   "source": [
    "# Here is the python program for the given problem.....\n",
    "\n",
    "import scipy.stats as stats\n",
    "\n",
    "def hypothesis_test(sample1, sample2, alpha=0.05):\n",
    "    \n",
    "    t_statistic, p_value = stats.ttest_ind(sample1, sample2)\n",
    "\n",
    "    # Print the results\n",
    "    print(f'T-statistic: {t_statistic}')\n",
    "    print(f'P-value: {p_value}')\n",
    "\n",
    "    # Compare the p-value with the significance level to make a decision\n",
    "    if p_value < alpha:\n",
    "        print(\"We reject the null hypothesis.\")\n",
    "    else:\n",
    "        print(\"We fail to reject the null hypothesis.\")\n",
    "\n",
    "    return t_statistic, p_value"
   ]
  },
  {
   "cell_type": "code",
   "execution_count": 12,
   "id": "c0b16381-cf00-42c4-b978-189a28eb338b",
   "metadata": {},
   "outputs": [
    {
     "data": {
      "text/plain": [
       "'Q6: What is a null and alternative hypothesis? Give some examples.'"
      ]
     },
     "execution_count": 12,
     "metadata": {},
     "output_type": "execute_result"
    }
   ],
   "source": [
    "'''Q6: What is a null and alternative hypothesis? Give some examples.'''"
   ]
  },
  {
   "cell_type": "code",
   "execution_count": 13,
   "id": "9ea966d1-7c26-4419-837d-9e68b9b7b1e0",
   "metadata": {},
   "outputs": [
    {
     "data": {
      "text/plain": [
       "'Null Hypothesis (H0): The null hypothesis is a claim about a population parameter that is assumed to be true until it is declared false based on evidence\\nfrom a sample. It often states that there is no effect, no difference, or no relationship in the population. For example, a null hypothesis could be\\n“There is no difference in the mean weight of males and females in a population” or \"There is no relationship between smoking and lung cancer in a population\".'"
      ]
     },
     "execution_count": 13,
     "metadata": {},
     "output_type": "execute_result"
    }
   ],
   "source": [
    "'''Null Hypothesis (H0): The null hypothesis is a claim about a population parameter that is assumed to be true until it is declared false based on evidence\n",
    "from a sample. It often states that there is no effect, no difference, or no relationship in the population. For example, a null hypothesis could be\n",
    "“There is no difference in the mean weight of males and females in a population” or \"There is no relationship between smoking and lung cancer in a population\".'''\n",
    "\n",
    "# Here are some examples:\n",
    "\n",
    "# 1.Null Hypothesis (H0): The average height of adult males in a population is 70 inches. Alternative Hypothesis (Ha): The average height of adult males in\n",
    "# a population is not 70 inches.\n",
    "\n",
    "# 2.Null Hypothesis (H0): There is no relationship between the amount of coffee consumed and hours of sleep. Alternative Hypothesis (Ha): There is a relationship\n",
    "# between the amount of coffee consumed and hours of sleep.\n",
    "\n",
    "# 3.Null Hypothesis (H0): The proportion of people who prefer cats to dogs is 0.5. Alternative Hypothesis (Ha): The proportion of people who prefer cats to\n",
    "# dogs is not 0.5."
   ]
  },
  {
   "cell_type": "code",
   "execution_count": 14,
   "id": "7961f9a5-f0f8-4c3c-a826-fb98bebc76a5",
   "metadata": {},
   "outputs": [
    {
     "data": {
      "text/plain": [
       "'Q7: Write down the steps involved in hypothesis testing.'"
      ]
     },
     "execution_count": 14,
     "metadata": {},
     "output_type": "execute_result"
    }
   ],
   "source": [
    "'''Q7: Write down the steps involved in hypothesis testing.'''"
   ]
  },
  {
   "cell_type": "code",
   "execution_count": 15,
   "id": "a6bb3007-fee6-49f3-a4e6-3f9cf92ffce7",
   "metadata": {},
   "outputs": [
    {
     "data": {
      "text/plain": [
       "'State your null and alternate hypotheses: After developing your initial research hypothesis (the prediction that you want to investigate), it is important\\nto restate it as a null (H0) and alternate (Ha) hypothesis so that you can test it mathematically.'"
      ]
     },
     "execution_count": 15,
     "metadata": {},
     "output_type": "execute_result"
    }
   ],
   "source": [
    "# Here are the steps involved in hypothesis testing:\n",
    "\n",
    "'''State your null and alternate hypotheses: After developing your initial research hypothesis (the prediction that you want to investigate), it is important\n",
    "to restate it as a null (H0) and alternate (Ha) hypothesis so that you can test it mathematically.'''\n",
    "\n",
    "# step 1.Collect data: For a statistical test to be valid, it is important to perform sampling and collect data in a way that is designed to test your\n",
    "# hypothesis. If your data are not representative, then you cannot make statistical inferences about the population you are interested in.\n",
    "\n",
    "# step 2.Perform a statistical test: There are a variety of statistical tests available, but they are all based on the comparison of within-group variance\n",
    "# (how spread out the data is within a category) versus between-group variance (how different the categories are from one another).\n",
    "\n",
    "# step 3.Decide whether to reject or fail to reject your null hypothesis: This decision is based on the p-value obtained from the statistical test. If \n",
    "# the p-value is less than the chosen significance level (often 0.05), then the null hypothesis is rejected in favor of the alternative hypothesis.\n",
    "\n",
    "# step 4.Present your findings: The results of the hypothesis test are then reported in a results and discussion section.\n",
    "\n",
    "# These steps provide a general framework for hypothesis testing, though the specific details might vary depending on the nature of the hypothesis and\n",
    "# the data1."
   ]
  },
  {
   "cell_type": "code",
   "execution_count": 16,
   "id": "1003942f-0a4a-4bbe-85f8-9cc26b0a11e8",
   "metadata": {},
   "outputs": [
    {
     "data": {
      "text/plain": [
       "'Q8. Define p-value and explain its significance in hypothesis testing.'"
      ]
     },
     "execution_count": 16,
     "metadata": {},
     "output_type": "execute_result"
    }
   ],
   "source": [
    "'''Q8. Define p-value and explain its significance in hypothesis testing.'''"
   ]
  },
  {
   "cell_type": "code",
   "execution_count": 17,
   "id": "651c09f3-37a1-43a1-93a3-868b20cb022e",
   "metadata": {},
   "outputs": [
    {
     "data": {
      "text/plain": [
       "'In essence, the p-value helps us decide whether our observed data is significantly different from what we would expect under the null hypothesis. \\nIt’s a crucial tool in hypothesis testing that aids in the interpretation of experimental results.'"
      ]
     },
     "execution_count": 17,
     "metadata": {},
     "output_type": "execute_result"
    }
   ],
   "source": [
    "'''The p-value is a probability measure used in statistical hypothesis testing12. It is defined as the probability of obtaining a result that is either \n",
    "the same or more extreme than the actual observations, assuming that the null hypothesis is true. The p-value is used as an alternative to rejection\n",
    "points to provide the smallest level of significance at which the null hypothesis would be rejected.'''\n",
    "\n",
    "# The significance of the p-value in hypothesis testing lies in its ability to quantify the statistical significance of the results of a hypothesis test.\n",
    "# The smaller the p-value, the stronger the evidence in favor of the alternative hypothesis. Here’s how the p-value is typically interpreted:\n",
    "\n",
    "# 1.P-value > 0.05: The result is not statistically significant, and we fail to reject the null hypothesis.\n",
    "\n",
    "# 2.P-value < 0.05: The result is statistically significant, and we generally reject the null hypothesis in favor of the alternative hypothesis.\n",
    "\n",
    "# 3.P-value < 0.01: The result is highly statistically significant, and we reject the null hypothesis in favor of the alternative hypothesis.\n",
    "\n",
    "'''In essence, the p-value helps us decide whether our observed data is significantly different from what we would expect under the null hypothesis. \n",
    "It’s a crucial tool in hypothesis testing that aids in the interpretation of experimental results.'''"
   ]
  },
  {
   "cell_type": "code",
   "execution_count": 18,
   "id": "712e7e0f-bec6-4a8a-a84f-cdbd63991619",
   "metadata": {},
   "outputs": [
    {
     "data": {
      "text/plain": [
       "\"Q9. Generate a Student's t-distribution plot using Python's matplotlib library, with the degrees of freedom \\nparameter set to 10.\""
      ]
     },
     "execution_count": 18,
     "metadata": {},
     "output_type": "execute_result"
    }
   ],
   "source": [
    "'''Q9. Generate a Student's t-distribution plot using Python's matplotlib library, with the degrees of freedom \n",
    "parameter set to 10.'''"
   ]
  },
  {
   "cell_type": "code",
   "execution_count": 19,
   "id": "94004a2d-4dad-4315-a5d7-3b46c0c0db54",
   "metadata": {},
   "outputs": [
    {
     "data": {
      "image/png": "[encoded data removed]",
      "text/plain": [
       "<Figure size 1000x600 with 1 Axes>"
      ]
     },
     "metadata": {},
     "output_type": "display_data"
    }
   ],
   "source": [
    "# Here is the given python program for the given problem......\n",
    "\n",
    "import matplotlib.pyplot as plt\n",
    "import numpy as np\n",
    "from scipy.stats import t\n",
    "\n",
    "df = 10\n",
    "\n",
    "x = np.linspace(t.ppf(0.01, df), t.ppf(0.99, df), 100)\n",
    "\n",
    "y = t.pdf(x, df)\n",
    "\n",
    "plt.figure(figsize=(10, 6))\n",
    "plt.plot(x, y, label=f\"t-distribution (df={df})\")\n",
    "plt.title(\"Student's t-Distribution\")\n",
    "plt.xlabel('Value')\n",
    "plt.ylabel('Frequency')\n",
    "plt.legend()\n",
    "plt.grid(True)\n",
    "plt.show()"
   ]
  },
  {
   "cell_type": "code",
   "execution_count": 20,
   "id": "f07bd66b-b827-4f56-bb69-6521a367b4d3",
   "metadata": {},
   "outputs": [
    {
     "data": {
      "text/plain": [
       "'Q10. Write a Python program to calculate the two-sample t-test for independent samples, given two \\nrandom samples of equal size and a null hypothesis that the population means are equal.'"
      ]
     },
     "execution_count": 20,
     "metadata": {},
     "output_type": "execute_result"
    }
   ],
   "source": [
    "'''Q10. Write a Python program to calculate the two-sample t-test for independent samples, given two \n",
    "random samples of equal size and a null hypothesis that the population means are equal.'''"
   ]
  },
  {
   "cell_type": "code",
   "execution_count": 22,
   "id": "6bfb9e5a-ce8b-4ce7-8010-cb0eec6059cb",
   "metadata": {},
   "outputs": [],
   "source": [
    "# Here is the required program for the given problem.....\n",
    "\n",
    "import scipy.stats as stats\n",
    "\n",
    "def two_sample_ttest(sample1, sample2, alpha=0.05):\n",
    "  \n",
    "    t_statistic, p_value = stats.ttest_ind(sample1, sample2)\n",
    "    \n",
    "    print(f'T-statistic: {t_statistic}')\n",
    "    print(f'P-value: {p_value}')\n",
    "\n",
    "    if p_value < alpha:\n",
    "        print(\"We reject the null hypothesis.\")\n",
    "    else:\n",
    "        print(\"We fail to reject the null hypothesis.\")\n",
    "\n",
    "    return t_statistic, p_value"
   ]
  },
  {
   "cell_type": "code",
   "execution_count": 23,
   "id": "36468bc4-a1a3-43d4-afe9-2103a1511c30",
   "metadata": {},
   "outputs": [
    {
     "data": {
      "text/plain": [
       "'Q11: What is Student’s t distribution? When to use the t-Distribution.'"
      ]
     },
     "execution_count": 23,
     "metadata": {},
     "output_type": "execute_result"
    }
   ],
   "source": [
    "'''Q11: What is Student’s t distribution? When to use the t-Distribution.'''"
   ]
  },
  {
   "cell_type": "code",
   "execution_count": 24,
   "id": "4955018c-27bd-40ab-b85d-fe4f4ffca540",
   "metadata": {},
   "outputs": [
    {
     "data": {
      "text/plain": [
       "'Student’s t-distribution, also known as the t-distribution, is a continuous probability distribution that generalizes the standard normal distribution. It is symmetric around zero and bell-shaped, similar to the standard normal distribution, but it has heavier tails12. The t-distribution was designed to factor in the greater uncertainty associated with small sample sizes3.\\n\\nThe t-distribution is used in statistics to estimate population parameters when the sample size is small or when the population standard deviation is\\nunknown. It is particularly important to use it when you have a small sample size (usually n < 30) and the population standard deviation is unknown.\\n\\nHere are some common uses of the t-distribution:\\n\\n# 1.Hypothesis Testing: The t-distribution is used to find the corresponding p-value from a statistical test that uses the t-distribution, such as t-tests\\nand regression analysis.\\n\\n# 2.Confidence Intervals: The t-distribution is used to find the critical values that define the upper and lower bounds of a confidence interval when the \\ndata is approximately normally distributed.\\n\\nIn summary, the t-distribution is a fundamental tool in statistics that allows us to make inferences about a population based on a small sample or when\\nthe population standard deviation is unknown.'"
      ]
     },
     "execution_count": 24,
     "metadata": {},
     "output_type": "execute_result"
    }
   ],
   "source": [
    "'''Student’s t-distribution, also known as the t-distribution, is a continuous probability distribution that generalizes the standard normal distribution. It is symmetric around zero and bell-shaped, similar to the standard normal distribution, but it has heavier tails12. The t-distribution was designed to factor in the greater uncertainty associated with small sample sizes3.\n",
    "\n",
    "The t-distribution is used in statistics to estimate population parameters when the sample size is small or when the population standard deviation is\n",
    "unknown. It is particularly important to use it when you have a small sample size (usually n < 30) and the population standard deviation is unknown.\n",
    "\n",
    "Here are some common uses of the t-distribution:\n",
    "\n",
    "# 1.Hypothesis Testing: The t-distribution is used to find the corresponding p-value from a statistical test that uses the t-distribution, such as t-tests\n",
    "and regression analysis.\n",
    "\n",
    "# 2.Confidence Intervals: The t-distribution is used to find the critical values that define the upper and lower bounds of a confidence interval when the \n",
    "data is approximately normally distributed.\n",
    "\n",
    "In summary, the t-distribution is a fundamental tool in statistics that allows us to make inferences about a population based on a small sample or when\n",
    "the population standard deviation is unknown.'''"
   ]
  },
  {
   "cell_type": "code",
   "execution_count": 25,
   "id": "5b564cb8-c804-43e9-b197-5b7e118e56e0",
   "metadata": {},
   "outputs": [
    {
     "data": {
      "text/plain": [
       "'Q12: What is t-statistic? State the formula for t-statistic.'"
      ]
     },
     "execution_count": 25,
     "metadata": {},
     "output_type": "execute_result"
    }
   ],
   "source": [
    "'''Q12: What is t-statistic? State the formula for t-statistic.'''"
   ]
  },
  {
   "cell_type": "code",
   "execution_count": 26,
   "id": "e711a6f9-e5a6-4e28-ae0c-babfe3d22c77",
   "metadata": {},
   "outputs": [
    {
     "data": {
      "text/plain": [
       "'Use this when comparing a single group against a standard value (e.g., comparing acidity to a neutral pH of 7).\\nFormula:t=sΔˉXˉ1−Xˉ2'"
      ]
     },
     "execution_count": 26,
     "metadata": {},
     "output_type": "execute_result"
    }
   ],
   "source": [
    "'''A t-test is a statistical test used to compare the means of two groups. It’s commonly employed in hypothesis testing to determine whether a process\n",
    "or treatment has an effect on a population or if two groups differ from each other. Let’s delve into the details:'''\n",
    "\n",
    "# When to Use a T-Test:\n",
    "\n",
    "# A t-test is suitable for comparing the means of two groups (pairwise comparison).\n",
    "# If you need to compare more than two groups or perform multiple pairwise comparisons, consider using an ANOVA test or a post-hoc test.\n",
    "# The t-test assumes that your data:\n",
    "\n",
    "# Are independent.\n",
    "# Are (approximately) normally distributed.\n",
    "# Have a similar amount of variance within each group (homogeneity of variance).\n",
    "\n",
    "# Types of T-Tests:\n",
    "\n",
    "# One-sample t-test:\n",
    "\n",
    "'''Use this when comparing a single group against a standard value (e.g., comparing acidity to a neutral pH of 7).\n",
    "Formula:t=sΔˉXˉ1−Xˉ2'''"
   ]
  },
  {
   "cell_type": "code",
   "execution_count": 27,
   "id": "5d6a80e8-29d4-42fb-a81a-4758638ead7e",
   "metadata": {},
   "outputs": [
    {
     "data": {
      "text/plain": [
       "'Certainly! Let’s calculate the 95% confidence interval for the population mean revenue based on the given sample data.\\n\\nSample Mean (x̄): $500\\nSample Standard Deviation (s): $50\\nSample Size (n): 50\\n\\nTo estimate the population mean revenue, we’ll use the formula for the confidence interval:\\nConfidence\\xa0Interval=(xˉ−zn\\u200bs\\u200b,xˉ+zn\\u200bs\\u200b)\\nHere:\\n\\nx̄ is the sample mean.\\nz is the critical value corresponding to the desired confidence level (95% confidence level).\\ns is the sample standard deviation.\\nn is the sample size.\\n\\n\\nCritical Value (z):\\n\\nFor a 95% confidence level, the area in each tail is α/2 = 0.025.\\nUsing a standard normal distribution table or calculator, we find that the critical value (z) is approximately 1.961.\\n\\n\\nCalculating the confidence interval:\\n\\nLower bound: xˉ−zn\\u200bs\\u200b\\n=500−1.9650\\u200b50\\u200b\\n≈500−6.93\\n≈493.07\\n\\nUpper bound: xˉ+zn\\u200bs\\u200b\\n=500+1.9650\\u200b50\\u200b\\n≈500+6.93\\n≈506.93\\n\\n\\nTherefore, with 95% confidence, we estimate that the true value of the population mean revenue lies between approximately $493.07 and $506.93.\\nKeep in mind that this interval captures the uncertainty around our estimate based on the sample data.'"
      ]
     },
     "execution_count": 27,
     "metadata": {},
     "output_type": "execute_result"
    }
   ],
   "source": [
    "'''Certainly! Let’s calculate the 95% confidence interval for the population mean revenue based on the given sample data.\n",
    "\n",
    "Sample Mean (x̄): $500\n",
    "Sample Standard Deviation (s): $50\n",
    "Sample Size (n): 50\n",
    "\n",
    "To estimate the population mean revenue, we’ll use the formula for the confidence interval:\n",
    "Confidence Interval=(xˉ−zn​s​,xˉ+zn​s​)\n",
    "Here:\n",
    "\n",
    "x̄ is the sample mean.\n",
    "z is the critical value corresponding to the desired confidence level (95% confidence level).\n",
    "s is the sample standard deviation.\n",
    "n is the sample size.\n",
    "\n",
    "\n",
    "Critical Value (z):\n",
    "\n",
    "For a 95% confidence level, the area in each tail is α/2 = 0.025.\n",
    "Using a standard normal distribution table or calculator, we find that the critical value (z) is approximately 1.961.\n",
    "\n",
    "\n",
    "Calculating the confidence interval:\n",
    "\n",
    "Lower bound: xˉ−zn​s​\n",
    "=500−1.9650​50​\n",
    "≈500−6.93\n",
    "≈493.07\n",
    "\n",
    "Upper bound: xˉ+zn​s​\n",
    "=500+1.9650​50​\n",
    "≈500+6.93\n",
    "≈506.93\n",
    "\n",
    "\n",
    "Therefore, with 95% confidence, we estimate that the true value of the population mean revenue lies between approximately $493.07 and $506.93.\n",
    "Keep in mind that this interval captures the uncertainty around our estimate based on the sample data.'''"
   ]
  },
  {
   "cell_type": "code",
   "execution_count": 29,
   "id": "b1ff552d-cc5d-4093-8bb9-c626788eb8e1",
   "metadata": {},
   "outputs": [
    {
     "data": {
      "text/plain": [
       "'Q15. An electronics company produces a certain type of product with a mean weight of 5 pounds and a \\nstandard deviation of 0.5 pounds. A random sample of 25 products is taken, and the sample mean weight \\nis found to be 4.8 pounds. Test the hypothesis that the true mean weight of the products is less than 5 \\npounds with a significance level of 0.01.'"
      ]
     },
     "execution_count": 29,
     "metadata": {},
     "output_type": "execute_result"
    }
   ],
   "source": [
    "'''Q15. An electronics company produces a certain type of product with a mean weight of 5 pounds and a \n",
    "standard deviation of 0.5 pounds. A random sample of 25 products is taken, and the sample mean weight \n",
    "is found to be 4.8 pounds. Test the hypothesis that the true mean weight of the products is less than 5 \n",
    "pounds with a significance level of 0.01.'''"
   ]
  },
  {
   "cell_type": "code",
   "execution_count": 30,
   "id": "d262aadb-b111-4e6e-b889-ff7d5d48ceb3",
   "metadata": {},
   "outputs": [
    {
     "data": {
      "text/plain": [
       "'For the second question, we are testing the hypothesis that the true mean weight of the products is less than 5 pounds1. This is a one-tailed t-test. \\nHere are the steps:\\n\\nNull Hypothesis (H0): The true mean weight of the products is 5 pounds1.\\nAlternative Hypothesis (H1): The true mean weight of the products is less than 5 pounds1.\\n\\nWe can calculate the t-score using the formula:\\nt=n\\u200bs\\u200bxˉ−μ\\u200b\\nwhere:\\n\\nxˉ is the sample mean (4.8 pounds),2\\nμ is the population mean (5 pounds),\\ns is the standard deviation (0.5 pounds), and\\nn is the sample size (25).\\n\\nSubstituting the values, we get:\\nt=25\\u200b0.5\\u200b4.8−5\\u200b\\nAfter calculating the t-score, we compare it with the critical t-value for a one-tailed test at a significance level of 0.01 with 24 degrees of freedom\\n(n-1). If the calculated t-score is less than the critical t-value, we reject the null hypothesis.\\n\\nPlease note that you’ll need a t-distribution table or a statistical software to find the critical t-value and to calculate the p-value. If the p-value\\nis less than the significance level (0.01), we reject the null hypothesis. Otherwise, we do not have enough evidence to reject the null hypothesis'"
      ]
     },
     "execution_count": 30,
     "metadata": {},
     "output_type": "execute_result"
    }
   ],
   "source": [
    "'''For the second question, we are testing the hypothesis that the true mean weight of the products is less than 5 pounds1. This is a one-tailed t-test. \n",
    "Here are the steps:\n",
    "\n",
    "Null Hypothesis (H0): The true mean weight of the products is 5 pounds1.\n",
    "Alternative Hypothesis (H1): The true mean weight of the products is less than 5 pounds1.\n",
    "\n",
    "We can calculate the t-score using the formula:\n",
    "t=n​s​xˉ−μ​\n",
    "where:\n",
    "\n",
    "xˉ is the sample mean (4.8 pounds),2\n",
    "μ is the population mean (5 pounds),\n",
    "s is the standard deviation (0.5 pounds), and\n",
    "n is the sample size (25).\n",
    "\n",
    "Substituting the values, we get:\n",
    "t=25​0.5​4.8−5​\n",
    "After calculating the t-score, we compare it with the critical t-value for a one-tailed test at a significance level of 0.01 with 24 degrees of freedom\n",
    "(n-1). If the calculated t-score is less than the critical t-value, we reject the null hypothesis.\n",
    "\n",
    "Please note that you’ll need a t-distribution table or a statistical software to find the critical t-value and to calculate the p-value. If the p-value\n",
    "is less than the significance level (0.01), we reject the null hypothesis. Otherwise, we do not have enough evidence to reject the null hypothesis'''"
   ]
  },
  {
   "cell_type": "code",
   "execution_count": null,
   "id": "33726a71-68a7-4be9-b5ca-35e1ec5b9f5c",
   "metadata": {},
   "outputs": [],
   "source": []
  },
  {
   "cell_type": "code",
   "execution_count": null,
   "id": "63df1c14-c0ac-4ff3-9853-e44f4a74419a",
   "metadata": {},
   "outputs": [],
   "source": [
    "This is a case of a two-sample t-test, where we are testing the hypothesis that the population means of two groups are equal1. Here are the steps:\n",
    "\n",
    "Null Hypothesis (H0): The population means of the two groups are equal1.\n",
    "Alternative Hypothesis (H1): The population means of the two groups are not equal1.\n",
    "\n",
    "We can calculate the t-score using the formula:\n",
    "t=n1​s12​​+n2​s22​​​xˉ1​−xˉ2​​\n",
    "where:\n",
    "\n",
    "xˉ1​ and xˉ2​ are the sample means (80 and 75),\n",
    "s1​ and s2​ are the standard deviations (10 and 8), and\n",
    "n1​ and n2​ are the sample sizes (30 and 40).\n",
    "\n",
    "Substituting the values, we get:\n",
    "t=30102​+4082​​80−75​\n",
    "After calculating the t-score, we compare it with the critical t-value for a two-tailed test at a significance level of 0.01 with degrees of freedom (df) equal to n1​+n2​−2=30+40−2=68. If the absolute value of the calculated t-score is greater than the critical t-value, we reject the null hypothesis"
   ]
  }
 ],
 "metadata": {
  "kernelspec": {
   "display_name": "Python 3 (ipykernel)",
   "language": "python",
   "name": "python3"
  },
  "language_info": {
   "codemirror_mode": {
    "name": "ipython",
    "version": 3
   },
   "file_extension": ".py",
   "mimetype": "text/x-python",
   "name": "python",
   "nbconvert_exporter": "python",
   "pygments_lexer": "ipython3",
   "version": "3.10.8"
  }
 },
 "nbformat": 4,
 "nbformat_minor": 5
}
